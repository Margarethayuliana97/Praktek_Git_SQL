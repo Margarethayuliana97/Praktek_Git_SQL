{
  "nbformat": 4,
  "nbformat_minor": 0,
  "metadata": {
    "colab": {
      "provenance": [],
      "collapsed_sections": [],
      "authorship_tag": "ABX9TyNnjdZ8BEFlNEJaRFkxwnqH",
      "include_colab_link": true
    },
    "kernelspec": {
      "name": "python3",
      "display_name": "Python 3"
    },
    "language_info": {
      "name": "python"
    }
  },
  "cells": [
    {
      "cell_type": "markdown",
      "metadata": {
        "id": "view-in-github",
        "colab_type": "text"
      },
      "source": [
        "<a href=\"https://colab.research.google.com/github/Margarethayuliana97/Praktek_Git_SQL/blob/master/Untitled0.ipynb\" target=\"_parent\"><img src=\"https://colab.research.google.com/assets/colab-badge.svg\" alt=\"Open In Colab\"/></a>"
      ]
    },
    {
      "cell_type": "code",
      "execution_count": null,
      "metadata": {
        "colab": {
          "base_uri": "https://localhost:8080/"
        },
        "id": "uqV_sCNf-Pul",
        "outputId": "39709ddf-50e4-4064-f018-07a353fbd582"
      },
      "outputs": [
        {
          "output_type": "stream",
          "name": "stdout",
          "text": [
            "Looking in indexes: https://pypi.org/simple, https://us-python.pkg.dev/colab-wheels/public/simple/\n",
            "Requirement already satisfied: psycopg2 in /usr/local/lib/python3.7/dist-packages (2.9.3)\n"
          ]
        }
      ],
      "source": [
        "!pip install psycopg2  #install Library Psycopg2"
      ]
    },
    {
      "cell_type": "markdown",
      "source": [
        "**Import Library**"
      ],
      "metadata": {
        "id": "ivVSfA11_nj3"
      }
    },
    {
      "cell_type": "code",
      "source": [
        "#import library\n",
        "import psycopg2\n",
        "import pandas as pd"
      ],
      "metadata": {
        "id": "GMn8qwkqCluV"
      },
      "execution_count": 2,
      "outputs": []
    }
  ]
}